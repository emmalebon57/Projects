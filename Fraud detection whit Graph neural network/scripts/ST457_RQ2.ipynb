{
  "nbformat": 4,
  "nbformat_minor": 0,
  "metadata": {
    "colab": {
      "provenance": [],
      "gpuType": "T4"
    },
    "kernelspec": {
      "name": "python3",
      "display_name": "Python 3"
    },
    "language_info": {
      "name": "python"
    },
    "accelerator": "GPU"
  },
  "cells": [
    {
      "cell_type": "markdown",
      "source": [
        "# **ST457 - Adaptive Graph Neural Networks for Real-Time Financial Fraud Detection**"
      ],
      "metadata": {
        "id": "Nkxv50ODKyvf"
      }
    },
    {
      "cell_type": "markdown",
      "source": [
        "## **RQ2: Does modeling inter-entity relationships enhance fraud detection compared to treating transactions as independent events?**"
      ],
      "metadata": {
        "id": "I_bO1ySMJ5f9"
      }
    },
    {
      "cell_type": "markdown",
      "source": [
        "## Install Required Libraries\n",
        "\n",
        "We begin by installing all necessary libraries such as `xgboost`, `scikit-learn`, `pandas`, `networkx`, and later `torch-geometric` for graph deep learning. These are required for traditional ML and GNN-based modeling."
      ],
      "metadata": {
        "id": "JJ7yrqmtn4QU"
      }
    },
    {
      "cell_type": "code",
      "execution_count": null,
      "metadata": {
        "colab": {
          "base_uri": "https://localhost:8080/"
        },
        "id": "2M9tjFu0-Uog",
        "outputId": "996b365f-fdc9-4a7e-e66f-4baf6c6a1f53"
      },
      "outputs": [
        {
          "output_type": "stream",
          "name": "stdout",
          "text": [
            "Requirement already satisfied: xgboost in /usr/local/lib/python3.11/dist-packages (2.1.4)\n",
            "Requirement already satisfied: scikit-learn in /usr/local/lib/python3.11/dist-packages (1.6.1)\n",
            "Requirement already satisfied: pandas in /usr/local/lib/python3.11/dist-packages (2.2.2)\n",
            "Requirement already satisfied: numpy in /usr/local/lib/python3.11/dist-packages (2.0.2)\n",
            "Requirement already satisfied: networkx in /usr/local/lib/python3.11/dist-packages (3.4.2)\n",
            "Requirement already satisfied: nvidia-nccl-cu12 in /usr/local/lib/python3.11/dist-packages (from xgboost) (2.21.5)\n",
            "Requirement already satisfied: scipy in /usr/local/lib/python3.11/dist-packages (from xgboost) (1.15.2)\n",
            "Requirement already satisfied: joblib>=1.2.0 in /usr/local/lib/python3.11/dist-packages (from scikit-learn) (1.4.2)\n",
            "Requirement already satisfied: threadpoolctl>=3.1.0 in /usr/local/lib/python3.11/dist-packages (from scikit-learn) (3.6.0)\n",
            "Requirement already satisfied: python-dateutil>=2.8.2 in /usr/local/lib/python3.11/dist-packages (from pandas) (2.9.0.post0)\n",
            "Requirement already satisfied: pytz>=2020.1 in /usr/local/lib/python3.11/dist-packages (from pandas) (2025.2)\n",
            "Requirement already satisfied: tzdata>=2022.7 in /usr/local/lib/python3.11/dist-packages (from pandas) (2025.2)\n",
            "Requirement already satisfied: six>=1.5 in /usr/local/lib/python3.11/dist-packages (from python-dateutil>=2.8.2->pandas) (1.17.0)\n"
          ]
        }
      ],
      "source": [
        "!pip install xgboost scikit-learn pandas numpy networkx"
      ]
    },
    {
      "cell_type": "code",
      "source": [
        "import pandas as pd\n",
        "import networkx as nx\n",
        "\n",
        "from sklearn.preprocessing import LabelEncoder\n",
        "\n",
        "from sklearn.model_selection import train_test_split\n",
        "from xgboost import XGBClassifier\n",
        "from sklearn.metrics import classification_report"
      ],
      "metadata": {
        "id": "lE4yDarW-muX"
      },
      "execution_count": null,
      "outputs": []
    },
    {
      "cell_type": "markdown",
      "source": [
        "## Load and Merge Transaction & Identity Data\n",
        "\n",
        "We load only a subset of relevant columns from the IEEE-CIS dataset to keep the project lightweight and focused. The two CSV files are merged using `TransactionID`, and only rows with valid `DeviceType` and `isFraud` labels are retained."
      ],
      "metadata": {
        "id": "c0MexTeZoEZ9"
      }
    },
    {
      "cell_type": "code",
      "source": [
        "# Confirmed useful columns only\n",
        "transaction_cols = ['TransactionID', 'TransactionDT', 'card1', 'addr1', 'isFraud']\n",
        "identity_cols = ['TransactionID', 'DeviceType']\n",
        "\n",
        "# Load both files\n",
        "df_trans = pd.read_csv('/content/train_transaction.csv', usecols=transaction_cols)\n",
        "df_id = pd.read_csv('/content/train_identity.csv', usecols=identity_cols)\n",
        "\n",
        "# Merge on TransactionID\n",
        "df = df_trans.merge(df_id, on='TransactionID', how='left')\n",
        "\n",
        "# Drop missing labels\n",
        "df = df.dropna(subset=['isFraud'])\n",
        "\n",
        "# Filter for rows where DeviceType exists\n",
        "df = df[df['DeviceType'].notna()]\n",
        "\n",
        "# Sample small dataset (5000 rows for speed)\n",
        "df = df.sample(n=5000, random_state=42).reset_index(drop=True)"
      ],
      "metadata": {
        "id": "NTrYcVLwEM4x"
      },
      "execution_count": null,
      "outputs": []
    },
    {
      "cell_type": "markdown",
      "source": [
        "## Preprocess the Data\n",
        "\n",
        "We handle missing values and convert categorical variables like `DeviceType` into numerical format using `LabelEncoder`. We also sample rows to reduce runtime."
      ],
      "metadata": {
        "id": "aSj__3rdoZbt"
      }
    },
    {
      "cell_type": "code",
      "source": [
        "# Handle missing values\n",
        "df['card1'] = df['card1'].fillna(-1).astype(int)\n",
        "df['addr1'] = df['addr1'].fillna(-1).astype(int)\n",
        "df['DeviceType'] = df['DeviceType'].fillna('unknown')\n",
        "\n",
        "# Encode DeviceType\n",
        "df['DeviceType_enc'] = LabelEncoder().fit_transform(df['DeviceType'])\n",
        "\n",
        "# Quick preview\n",
        "df[['card1', 'addr1', 'DeviceType', 'DeviceType_enc', 'isFraud']].head()"
      ],
      "metadata": {
        "colab": {
          "base_uri": "https://localhost:8080/",
          "height": 206
        },
        "id": "fmf9QCVSEkPT",
        "outputId": "894b4934-3bc3-4625-ea07-a0b73b19bc90"
      },
      "execution_count": null,
      "outputs": [
        {
          "output_type": "execute_result",
          "data": {
            "text/plain": [
              "   card1  addr1 DeviceType  DeviceType_enc  isFraud\n",
              "0   2744    299    desktop               0        0\n",
              "1   1976     -1     mobile               1        0\n",
              "2  13176     -1    desktop               0        0\n",
              "3   4461     -1    desktop               0        0\n",
              "4   1724    299    desktop               0        0"
            ],
            "text/html": [
              "\n",
              "  <div id=\"df-65f3115d-1ee1-4235-9bd6-778b9eadc67a\" class=\"colab-df-container\">\n",
              "    <div>\n",
              "<style scoped>\n",
              "    .dataframe tbody tr th:only-of-type {\n",
              "        vertical-align: middle;\n",
              "    }\n",
              "\n",
              "    .dataframe tbody tr th {\n",
              "        vertical-align: top;\n",
              "    }\n",
              "\n",
              "    .dataframe thead th {\n",
              "        text-align: right;\n",
              "    }\n",
              "</style>\n",
              "<table border=\"1\" class=\"dataframe\">\n",
              "  <thead>\n",
              "    <tr style=\"text-align: right;\">\n",
              "      <th></th>\n",
              "      <th>card1</th>\n",
              "      <th>addr1</th>\n",
              "      <th>DeviceType</th>\n",
              "      <th>DeviceType_enc</th>\n",
              "      <th>isFraud</th>\n",
              "    </tr>\n",
              "  </thead>\n",
              "  <tbody>\n",
              "    <tr>\n",
              "      <th>0</th>\n",
              "      <td>2744</td>\n",
              "      <td>299</td>\n",
              "      <td>desktop</td>\n",
              "      <td>0</td>\n",
              "      <td>0</td>\n",
              "    </tr>\n",
              "    <tr>\n",
              "      <th>1</th>\n",
              "      <td>1976</td>\n",
              "      <td>-1</td>\n",
              "      <td>mobile</td>\n",
              "      <td>1</td>\n",
              "      <td>0</td>\n",
              "    </tr>\n",
              "    <tr>\n",
              "      <th>2</th>\n",
              "      <td>13176</td>\n",
              "      <td>-1</td>\n",
              "      <td>desktop</td>\n",
              "      <td>0</td>\n",
              "      <td>0</td>\n",
              "    </tr>\n",
              "    <tr>\n",
              "      <th>3</th>\n",
              "      <td>4461</td>\n",
              "      <td>-1</td>\n",
              "      <td>desktop</td>\n",
              "      <td>0</td>\n",
              "      <td>0</td>\n",
              "    </tr>\n",
              "    <tr>\n",
              "      <th>4</th>\n",
              "      <td>1724</td>\n",
              "      <td>299</td>\n",
              "      <td>desktop</td>\n",
              "      <td>0</td>\n",
              "      <td>0</td>\n",
              "    </tr>\n",
              "  </tbody>\n",
              "</table>\n",
              "</div>\n",
              "    <div class=\"colab-df-buttons\">\n",
              "\n",
              "  <div class=\"colab-df-container\">\n",
              "    <button class=\"colab-df-convert\" onclick=\"convertToInteractive('df-65f3115d-1ee1-4235-9bd6-778b9eadc67a')\"\n",
              "            title=\"Convert this dataframe to an interactive table.\"\n",
              "            style=\"display:none;\">\n",
              "\n",
              "  <svg xmlns=\"http://www.w3.org/2000/svg\" height=\"24px\" viewBox=\"0 -960 960 960\">\n",
              "    <path d=\"M120-120v-720h720v720H120Zm60-500h600v-160H180v160Zm220 220h160v-160H400v160Zm0 220h160v-160H400v160ZM180-400h160v-160H180v160Zm440 0h160v-160H620v160ZM180-180h160v-160H180v160Zm440 0h160v-160H620v160Z\"/>\n",
              "  </svg>\n",
              "    </button>\n",
              "\n",
              "  <style>\n",
              "    .colab-df-container {\n",
              "      display:flex;\n",
              "      gap: 12px;\n",
              "    }\n",
              "\n",
              "    .colab-df-convert {\n",
              "      background-color: #E8F0FE;\n",
              "      border: none;\n",
              "      border-radius: 50%;\n",
              "      cursor: pointer;\n",
              "      display: none;\n",
              "      fill: #1967D2;\n",
              "      height: 32px;\n",
              "      padding: 0 0 0 0;\n",
              "      width: 32px;\n",
              "    }\n",
              "\n",
              "    .colab-df-convert:hover {\n",
              "      background-color: #E2EBFA;\n",
              "      box-shadow: 0px 1px 2px rgba(60, 64, 67, 0.3), 0px 1px 3px 1px rgba(60, 64, 67, 0.15);\n",
              "      fill: #174EA6;\n",
              "    }\n",
              "\n",
              "    .colab-df-buttons div {\n",
              "      margin-bottom: 4px;\n",
              "    }\n",
              "\n",
              "    [theme=dark] .colab-df-convert {\n",
              "      background-color: #3B4455;\n",
              "      fill: #D2E3FC;\n",
              "    }\n",
              "\n",
              "    [theme=dark] .colab-df-convert:hover {\n",
              "      background-color: #434B5C;\n",
              "      box-shadow: 0px 1px 3px 1px rgba(0, 0, 0, 0.15);\n",
              "      filter: drop-shadow(0px 1px 2px rgba(0, 0, 0, 0.3));\n",
              "      fill: #FFFFFF;\n",
              "    }\n",
              "  </style>\n",
              "\n",
              "    <script>\n",
              "      const buttonEl =\n",
              "        document.querySelector('#df-65f3115d-1ee1-4235-9bd6-778b9eadc67a button.colab-df-convert');\n",
              "      buttonEl.style.display =\n",
              "        google.colab.kernel.accessAllowed ? 'block' : 'none';\n",
              "\n",
              "      async function convertToInteractive(key) {\n",
              "        const element = document.querySelector('#df-65f3115d-1ee1-4235-9bd6-778b9eadc67a');\n",
              "        const dataTable =\n",
              "          await google.colab.kernel.invokeFunction('convertToInteractive',\n",
              "                                                    [key], {});\n",
              "        if (!dataTable) return;\n",
              "\n",
              "        const docLinkHtml = 'Like what you see? Visit the ' +\n",
              "          '<a target=\"_blank\" href=https://colab.research.google.com/notebooks/data_table.ipynb>data table notebook</a>'\n",
              "          + ' to learn more about interactive tables.';\n",
              "        element.innerHTML = '';\n",
              "        dataTable['output_type'] = 'display_data';\n",
              "        await google.colab.output.renderOutput(dataTable, element);\n",
              "        const docLink = document.createElement('div');\n",
              "        docLink.innerHTML = docLinkHtml;\n",
              "        element.appendChild(docLink);\n",
              "      }\n",
              "    </script>\n",
              "  </div>\n",
              "\n",
              "\n",
              "    <div id=\"df-1b4d633f-6256-49cb-b5ce-55254337c089\">\n",
              "      <button class=\"colab-df-quickchart\" onclick=\"quickchart('df-1b4d633f-6256-49cb-b5ce-55254337c089')\"\n",
              "                title=\"Suggest charts\"\n",
              "                style=\"display:none;\">\n",
              "\n",
              "<svg xmlns=\"http://www.w3.org/2000/svg\" height=\"24px\"viewBox=\"0 0 24 24\"\n",
              "     width=\"24px\">\n",
              "    <g>\n",
              "        <path d=\"M19 3H5c-1.1 0-2 .9-2 2v14c0 1.1.9 2 2 2h14c1.1 0 2-.9 2-2V5c0-1.1-.9-2-2-2zM9 17H7v-7h2v7zm4 0h-2V7h2v10zm4 0h-2v-4h2v4z\"/>\n",
              "    </g>\n",
              "</svg>\n",
              "      </button>\n",
              "\n",
              "<style>\n",
              "  .colab-df-quickchart {\n",
              "      --bg-color: #E8F0FE;\n",
              "      --fill-color: #1967D2;\n",
              "      --hover-bg-color: #E2EBFA;\n",
              "      --hover-fill-color: #174EA6;\n",
              "      --disabled-fill-color: #AAA;\n",
              "      --disabled-bg-color: #DDD;\n",
              "  }\n",
              "\n",
              "  [theme=dark] .colab-df-quickchart {\n",
              "      --bg-color: #3B4455;\n",
              "      --fill-color: #D2E3FC;\n",
              "      --hover-bg-color: #434B5C;\n",
              "      --hover-fill-color: #FFFFFF;\n",
              "      --disabled-bg-color: #3B4455;\n",
              "      --disabled-fill-color: #666;\n",
              "  }\n",
              "\n",
              "  .colab-df-quickchart {\n",
              "    background-color: var(--bg-color);\n",
              "    border: none;\n",
              "    border-radius: 50%;\n",
              "    cursor: pointer;\n",
              "    display: none;\n",
              "    fill: var(--fill-color);\n",
              "    height: 32px;\n",
              "    padding: 0;\n",
              "    width: 32px;\n",
              "  }\n",
              "\n",
              "  .colab-df-quickchart:hover {\n",
              "    background-color: var(--hover-bg-color);\n",
              "    box-shadow: 0 1px 2px rgba(60, 64, 67, 0.3), 0 1px 3px 1px rgba(60, 64, 67, 0.15);\n",
              "    fill: var(--button-hover-fill-color);\n",
              "  }\n",
              "\n",
              "  .colab-df-quickchart-complete:disabled,\n",
              "  .colab-df-quickchart-complete:disabled:hover {\n",
              "    background-color: var(--disabled-bg-color);\n",
              "    fill: var(--disabled-fill-color);\n",
              "    box-shadow: none;\n",
              "  }\n",
              "\n",
              "  .colab-df-spinner {\n",
              "    border: 2px solid var(--fill-color);\n",
              "    border-color: transparent;\n",
              "    border-bottom-color: var(--fill-color);\n",
              "    animation:\n",
              "      spin 1s steps(1) infinite;\n",
              "  }\n",
              "\n",
              "  @keyframes spin {\n",
              "    0% {\n",
              "      border-color: transparent;\n",
              "      border-bottom-color: var(--fill-color);\n",
              "      border-left-color: var(--fill-color);\n",
              "    }\n",
              "    20% {\n",
              "      border-color: transparent;\n",
              "      border-left-color: var(--fill-color);\n",
              "      border-top-color: var(--fill-color);\n",
              "    }\n",
              "    30% {\n",
              "      border-color: transparent;\n",
              "      border-left-color: var(--fill-color);\n",
              "      border-top-color: var(--fill-color);\n",
              "      border-right-color: var(--fill-color);\n",
              "    }\n",
              "    40% {\n",
              "      border-color: transparent;\n",
              "      border-right-color: var(--fill-color);\n",
              "      border-top-color: var(--fill-color);\n",
              "    }\n",
              "    60% {\n",
              "      border-color: transparent;\n",
              "      border-right-color: var(--fill-color);\n",
              "    }\n",
              "    80% {\n",
              "      border-color: transparent;\n",
              "      border-right-color: var(--fill-color);\n",
              "      border-bottom-color: var(--fill-color);\n",
              "    }\n",
              "    90% {\n",
              "      border-color: transparent;\n",
              "      border-bottom-color: var(--fill-color);\n",
              "    }\n",
              "  }\n",
              "</style>\n",
              "\n",
              "      <script>\n",
              "        async function quickchart(key) {\n",
              "          const quickchartButtonEl =\n",
              "            document.querySelector('#' + key + ' button');\n",
              "          quickchartButtonEl.disabled = true;  // To prevent multiple clicks.\n",
              "          quickchartButtonEl.classList.add('colab-df-spinner');\n",
              "          try {\n",
              "            const charts = await google.colab.kernel.invokeFunction(\n",
              "                'suggestCharts', [key], {});\n",
              "          } catch (error) {\n",
              "            console.error('Error during call to suggestCharts:', error);\n",
              "          }\n",
              "          quickchartButtonEl.classList.remove('colab-df-spinner');\n",
              "          quickchartButtonEl.classList.add('colab-df-quickchart-complete');\n",
              "        }\n",
              "        (() => {\n",
              "          let quickchartButtonEl =\n",
              "            document.querySelector('#df-1b4d633f-6256-49cb-b5ce-55254337c089 button');\n",
              "          quickchartButtonEl.style.display =\n",
              "            google.colab.kernel.accessAllowed ? 'block' : 'none';\n",
              "        })();\n",
              "      </script>\n",
              "    </div>\n",
              "\n",
              "    </div>\n",
              "  </div>\n"
            ],
            "application/vnd.google.colaboratory.intrinsic+json": {
              "type": "dataframe",
              "summary": "{\n  \"name\": \"df[['card1', 'addr1', 'DeviceType', 'DeviceType_enc', 'isFraud']]\",\n  \"rows\": 5,\n  \"fields\": [\n    {\n      \"column\": \"card1\",\n      \"properties\": {\n        \"dtype\": \"number\",\n        \"std\": 4794,\n        \"min\": 1724,\n        \"max\": 13176,\n        \"num_unique_values\": 5,\n        \"samples\": [\n          1976,\n          1724,\n          13176\n        ],\n        \"semantic_type\": \"\",\n        \"description\": \"\"\n      }\n    },\n    {\n      \"column\": \"addr1\",\n      \"properties\": {\n        \"dtype\": \"number\",\n        \"std\": 164,\n        \"min\": -1,\n        \"max\": 299,\n        \"num_unique_values\": 2,\n        \"samples\": [\n          -1,\n          299\n        ],\n        \"semantic_type\": \"\",\n        \"description\": \"\"\n      }\n    },\n    {\n      \"column\": \"DeviceType\",\n      \"properties\": {\n        \"dtype\": \"category\",\n        \"num_unique_values\": 2,\n        \"samples\": [\n          \"mobile\",\n          \"desktop\"\n        ],\n        \"semantic_type\": \"\",\n        \"description\": \"\"\n      }\n    },\n    {\n      \"column\": \"DeviceType_enc\",\n      \"properties\": {\n        \"dtype\": \"number\",\n        \"std\": 0,\n        \"min\": 0,\n        \"max\": 1,\n        \"num_unique_values\": 2,\n        \"samples\": [\n          1,\n          0\n        ],\n        \"semantic_type\": \"\",\n        \"description\": \"\"\n      }\n    },\n    {\n      \"column\": \"isFraud\",\n      \"properties\": {\n        \"dtype\": \"number\",\n        \"std\": 0,\n        \"min\": 0,\n        \"max\": 0,\n        \"num_unique_values\": 1,\n        \"samples\": [\n          0\n        ],\n        \"semantic_type\": \"\",\n        \"description\": \"\"\n      }\n    }\n  ]\n}"
            }
          },
          "metadata": {},
          "execution_count": 13
        }
      ]
    },
    {
      "cell_type": "markdown",
      "source": [
        "## **1. Train a Baseline Model using XGBoost**\n",
        "\n",
        "This serves as our benchmark. We split the data into training and test sets and train an `XGBoost` classifier on features like `card1`, `addr1`, and encoded `DeviceType`. The model’s classification report helps us measure initial fraud detection performance."
      ],
      "metadata": {
        "id": "1T3J5GXoolOr"
      }
    },
    {
      "cell_type": "code",
      "source": [
        "# Select features and target\n",
        "X = df[['card1', 'addr1', 'DeviceType_enc']]\n",
        "y = df['isFraud']\n",
        "\n",
        "# Train-test split\n",
        "X_train, X_test, y_train, y_test = train_test_split(X, y, stratify=y, test_size=0.2, random_state=42)\n",
        "\n",
        "# Train XGBoost\n",
        "model = XGBClassifier(use_label_encoder=False, eval_metric='logloss')\n",
        "model.fit(X_train, y_train)\n",
        "\n",
        "# Evaluate\n",
        "y_pred = model.predict(X_test)\n",
        "print(classification_report(y_test, y_pred))"
      ],
      "metadata": {
        "colab": {
          "base_uri": "https://localhost:8080/"
        },
        "id": "HXMWS7XZEn25",
        "outputId": "bd00638f-edac-4e5d-efba-140bb54b862a"
      },
      "execution_count": null,
      "outputs": [
        {
          "output_type": "stream",
          "name": "stderr",
          "text": [
            "/usr/local/lib/python3.11/dist-packages/xgboost/core.py:158: UserWarning: [20:52:56] WARNING: /workspace/src/learner.cc:740: \n",
            "Parameters: { \"use_label_encoder\" } are not used.\n",
            "\n",
            "  warnings.warn(smsg, UserWarning)\n"
          ]
        },
        {
          "output_type": "stream",
          "name": "stdout",
          "text": [
            "              precision    recall  f1-score   support\n",
            "\n",
            "           0       0.93      1.00      0.96       927\n",
            "           1       0.25      0.01      0.03        73\n",
            "\n",
            "    accuracy                           0.93      1000\n",
            "   macro avg       0.59      0.51      0.49      1000\n",
            "weighted avg       0.88      0.93      0.89      1000\n",
            "\n"
          ]
        }
      ]
    },
    {
      "cell_type": "markdown",
      "source": [
        "## Evaluation of Baseline Model (XGBoost)\n",
        "\n",
        "This baseline model uses only three independent features (`card1`, `addr1`, and `DeviceType`) to predict whether a transaction is fraudulent. The model achieves a high **accuracy of 93%**, but the performance on the fraud class (label `1`) is very poor:\n",
        "\n",
        "- **Precision (class 1)**: 25% — Only 1 in 4 flagged frauds were actually fraud.\n",
        "- **Recall (class 1)**: 1% — It caught only 1 out of 100 real frauds.\n",
        "- **F1-score (class 1)**: 3% — Extremely low, indicating that the model is nearly blind to actual fraud cases.\n",
        "\n",
        "This confirms that treating transactions independently (without modeling relationships to devices, cards, etc.) fails to capture fraudulent behavior effectively. We need a graph-based approach that considers **inter-entity relationships** to detect fraud more accurately."
      ],
      "metadata": {
        "id": "NzxBhYZzo809"
      }
    },
    {
      "cell_type": "markdown",
      "source": [
        "## Building the Transaction Graph\n",
        "\n",
        "Here, we construct a graph using `NetworkX` to represent the relationships between transactions and their associated entities: **card**, **address**, and **device**. Each transaction becomes a node, and we create additional nodes for the associated `card1`, `addr1`, and `DeviceType` values.\n",
        "\n",
        "- Every transaction is connected to its corresponding card, address, and device using edges.\n",
        "- We also assign a `label` to each transaction node indicating whether it is fraudulent (1) or not (0).\n",
        "- A `node_type` is added for each node to distinguish transactions from cards, addresses, and devices — which is important for downstream modeling.\n",
        "\n",
        "This transforms our tabular dataset into a **heterogeneous graph structure**, allowing us to capture inter-entity dependencies that may signal fraud patterns. This is the first key step in shifting from independent-event modeling to **graph-based fraud detection**."
      ],
      "metadata": {
        "id": "tHBopBNCqIuK"
      }
    },
    {
      "cell_type": "code",
      "source": [
        "G = nx.Graph()\n",
        "\n",
        "for _, row in df.iterrows():\n",
        "    txn = f\"txn_{row['TransactionID']}\"\n",
        "    card = f\"card_{row['card1']}\"\n",
        "    addr = f\"addr_{row['addr1']}\"\n",
        "    device = f\"device_{row['DeviceType_enc']}\"\n",
        "\n",
        "    G.add_node(txn, node_type='transaction', label=int(row['isFraud']))\n",
        "    G.add_node(card, node_type='card')\n",
        "    G.add_node(addr, node_type='addr')\n",
        "    G.add_node(device, node_type='device')\n",
        "\n",
        "    G.add_edge(txn, card)\n",
        "    G.add_edge(txn, addr)\n",
        "    G.add_edge(txn, device)\n",
        "\n",
        "print(f\"Graph built with {G.number_of_nodes()} nodes and {G.number_of_edges()} edges.\")"
      ],
      "metadata": {
        "colab": {
          "base_uri": "https://localhost:8080/"
        },
        "id": "9GrsIp8KEsQS",
        "outputId": "2cebbbd0-f65a-45a4-cb1d-999e378a94c0"
      },
      "execution_count": null,
      "outputs": [
        {
          "output_type": "stream",
          "name": "stdout",
          "text": [
            "Graph built with 6532 nodes and 15000 edges.\n"
          ]
        }
      ]
    },
    {
      "cell_type": "markdown",
      "source": [
        "## **2. Graph Convolutional Network (GCN)**\n",
        "\n",
        "Having built the transaction graph, we now move into graph-based modeling using a **Graph Convolutional Network (GCN)**. Unlike traditional models that treat data points independently, GCNs allow us to **learn from the structure of the graph** — specifically how transactions are connected to devices, cards, and addresses.\n",
        "\n",
        "This section begins by:\n",
        "- Installing and importing necessary libraries (`torch`, `torch_geometric`, `networkx`).\n",
        "- Creating a **cleaned graph with node features and labels** suitable for PyTorch Geometric.\n",
        "- Each transaction node is initialized with a dummy 4-dimensional feature vector (can be adjusted later).\n",
        "- The fraud label (`isFraud`) is stored as a node attribute (`y`) for supervised learning.\n",
        "\n",
        "This setup allows us to apply a GCN that will learn **node embeddings** based on both the features and graph structure — helping the model detect fraud more effectively by leveraging **inter-entity interactions**.\n"
      ],
      "metadata": {
        "id": "B_TNNFUaJN8d"
      }
    },
    {
      "cell_type": "code",
      "source": [
        "!pip install torch torchvision torchaudio\n",
        "!pip install torch-geometric -q"
      ],
      "metadata": {
        "colab": {
          "base_uri": "https://localhost:8080/"
        },
        "id": "WKUtpZwwJNDn",
        "outputId": "6e0a85f8-8e17-4420-fda1-7c2071236422"
      },
      "execution_count": null,
      "outputs": [
        {
          "output_type": "stream",
          "name": "stdout",
          "text": [
            "Requirement already satisfied: torch in /usr/local/lib/python3.11/dist-packages (2.6.0+cu124)\n",
            "Requirement already satisfied: torchvision in /usr/local/lib/python3.11/dist-packages (0.21.0+cu124)\n",
            "Requirement already satisfied: torchaudio in /usr/local/lib/python3.11/dist-packages (2.6.0+cu124)\n",
            "Requirement already satisfied: filelock in /usr/local/lib/python3.11/dist-packages (from torch) (3.18.0)\n",
            "Requirement already satisfied: typing-extensions>=4.10.0 in /usr/local/lib/python3.11/dist-packages (from torch) (4.13.2)\n",
            "Requirement already satisfied: networkx in /usr/local/lib/python3.11/dist-packages (from torch) (3.4.2)\n",
            "Requirement already satisfied: jinja2 in /usr/local/lib/python3.11/dist-packages (from torch) (3.1.6)\n",
            "Requirement already satisfied: fsspec in /usr/local/lib/python3.11/dist-packages (from torch) (2025.3.2)\n",
            "Collecting nvidia-cuda-nvrtc-cu12==12.4.127 (from torch)\n",
            "  Downloading nvidia_cuda_nvrtc_cu12-12.4.127-py3-none-manylinux2014_x86_64.whl.metadata (1.5 kB)\n",
            "Collecting nvidia-cuda-runtime-cu12==12.4.127 (from torch)\n",
            "  Downloading nvidia_cuda_runtime_cu12-12.4.127-py3-none-manylinux2014_x86_64.whl.metadata (1.5 kB)\n",
            "Collecting nvidia-cuda-cupti-cu12==12.4.127 (from torch)\n",
            "  Downloading nvidia_cuda_cupti_cu12-12.4.127-py3-none-manylinux2014_x86_64.whl.metadata (1.6 kB)\n",
            "Collecting nvidia-cudnn-cu12==9.1.0.70 (from torch)\n",
            "  Downloading nvidia_cudnn_cu12-9.1.0.70-py3-none-manylinux2014_x86_64.whl.metadata (1.6 kB)\n",
            "Collecting nvidia-cublas-cu12==12.4.5.8 (from torch)\n",
            "  Downloading nvidia_cublas_cu12-12.4.5.8-py3-none-manylinux2014_x86_64.whl.metadata (1.5 kB)\n",
            "Collecting nvidia-cufft-cu12==11.2.1.3 (from torch)\n",
            "  Downloading nvidia_cufft_cu12-11.2.1.3-py3-none-manylinux2014_x86_64.whl.metadata (1.5 kB)\n",
            "Collecting nvidia-curand-cu12==10.3.5.147 (from torch)\n",
            "  Downloading nvidia_curand_cu12-10.3.5.147-py3-none-manylinux2014_x86_64.whl.metadata (1.5 kB)\n",
            "Collecting nvidia-cusolver-cu12==11.6.1.9 (from torch)\n",
            "  Downloading nvidia_cusolver_cu12-11.6.1.9-py3-none-manylinux2014_x86_64.whl.metadata (1.6 kB)\n",
            "Collecting nvidia-cusparse-cu12==12.3.1.170 (from torch)\n",
            "  Downloading nvidia_cusparse_cu12-12.3.1.170-py3-none-manylinux2014_x86_64.whl.metadata (1.6 kB)\n",
            "Requirement already satisfied: nvidia-cusparselt-cu12==0.6.2 in /usr/local/lib/python3.11/dist-packages (from torch) (0.6.2)\n",
            "Requirement already satisfied: nvidia-nccl-cu12==2.21.5 in /usr/local/lib/python3.11/dist-packages (from torch) (2.21.5)\n",
            "Requirement already satisfied: nvidia-nvtx-cu12==12.4.127 in /usr/local/lib/python3.11/dist-packages (from torch) (12.4.127)\n",
            "Collecting nvidia-nvjitlink-cu12==12.4.127 (from torch)\n",
            "  Downloading nvidia_nvjitlink_cu12-12.4.127-py3-none-manylinux2014_x86_64.whl.metadata (1.5 kB)\n",
            "Requirement already satisfied: triton==3.2.0 in /usr/local/lib/python3.11/dist-packages (from torch) (3.2.0)\n",
            "Requirement already satisfied: sympy==1.13.1 in /usr/local/lib/python3.11/dist-packages (from torch) (1.13.1)\n",
            "Requirement already satisfied: mpmath<1.4,>=1.1.0 in /usr/local/lib/python3.11/dist-packages (from sympy==1.13.1->torch) (1.3.0)\n",
            "Requirement already satisfied: numpy in /usr/local/lib/python3.11/dist-packages (from torchvision) (2.0.2)\n",
            "Requirement already satisfied: pillow!=8.3.*,>=5.3.0 in /usr/local/lib/python3.11/dist-packages (from torchvision) (11.2.1)\n",
            "Requirement already satisfied: MarkupSafe>=2.0 in /usr/local/lib/python3.11/dist-packages (from jinja2->torch) (3.0.2)\n",
            "Downloading nvidia_cublas_cu12-12.4.5.8-py3-none-manylinux2014_x86_64.whl (363.4 MB)\n",
            "\u001b[2K   \u001b[90m━━━━━━━━━━━━━━━━━━━━━━━━━━━━━━━━━━━━━━━━\u001b[0m \u001b[32m363.4/363.4 MB\u001b[0m \u001b[31m3.9 MB/s\u001b[0m eta \u001b[36m0:00:00\u001b[0m\n",
            "\u001b[?25hDownloading nvidia_cuda_cupti_cu12-12.4.127-py3-none-manylinux2014_x86_64.whl (13.8 MB)\n",
            "\u001b[2K   \u001b[90m━━━━━━━━━━━━━━━━━━━━━━━━━━━━━━━━━━━━━━━━\u001b[0m \u001b[32m13.8/13.8 MB\u001b[0m \u001b[31m83.5 MB/s\u001b[0m eta \u001b[36m0:00:00\u001b[0m\n",
            "\u001b[?25hDownloading nvidia_cuda_nvrtc_cu12-12.4.127-py3-none-manylinux2014_x86_64.whl (24.6 MB)\n",
            "\u001b[2K   \u001b[90m━━━━━━━━━━━━━━━━━━━━━━━━━━━━━━━━━━━━━━━━\u001b[0m \u001b[32m24.6/24.6 MB\u001b[0m \u001b[31m70.7 MB/s\u001b[0m eta \u001b[36m0:00:00\u001b[0m\n",
            "\u001b[?25hDownloading nvidia_cuda_runtime_cu12-12.4.127-py3-none-manylinux2014_x86_64.whl (883 kB)\n",
            "\u001b[2K   \u001b[90m━━━━━━━━━━━━━━━━━━━━━━━━━━━━━━━━━━━━━━━━\u001b[0m \u001b[32m883.7/883.7 kB\u001b[0m \u001b[31m45.3 MB/s\u001b[0m eta \u001b[36m0:00:00\u001b[0m\n",
            "\u001b[?25hDownloading nvidia_cudnn_cu12-9.1.0.70-py3-none-manylinux2014_x86_64.whl (664.8 MB)\n",
            "\u001b[2K   \u001b[90m━━━━━━━━━━━━━━━━━━━━━━━━━━━━━━━━━━━━━━━━\u001b[0m \u001b[32m664.8/664.8 MB\u001b[0m \u001b[31m2.8 MB/s\u001b[0m eta \u001b[36m0:00:00\u001b[0m\n",
            "\u001b[?25hDownloading nvidia_cufft_cu12-11.2.1.3-py3-none-manylinux2014_x86_64.whl (211.5 MB)\n",
            "\u001b[2K   \u001b[90m━━━━━━━━━━━━━━━━━━━━━━━━━━━━━━━━━━━━━━━━\u001b[0m \u001b[32m211.5/211.5 MB\u001b[0m \u001b[31m5.7 MB/s\u001b[0m eta \u001b[36m0:00:00\u001b[0m\n",
            "\u001b[?25hDownloading nvidia_curand_cu12-10.3.5.147-py3-none-manylinux2014_x86_64.whl (56.3 MB)\n",
            "\u001b[2K   \u001b[90m━━━━━━━━━━━━━━━━━━━━━━━━━━━━━━━━━━━━━━━━\u001b[0m \u001b[32m56.3/56.3 MB\u001b[0m \u001b[31m14.8 MB/s\u001b[0m eta \u001b[36m0:00:00\u001b[0m\n",
            "\u001b[?25hDownloading nvidia_cusolver_cu12-11.6.1.9-py3-none-manylinux2014_x86_64.whl (127.9 MB)\n",
            "\u001b[2K   \u001b[90m━━━━━━━━━━━━━━━━━━━━━━━━━━━━━━━━━━━━━━━━\u001b[0m \u001b[32m127.9/127.9 MB\u001b[0m \u001b[31m7.5 MB/s\u001b[0m eta \u001b[36m0:00:00\u001b[0m\n",
            "\u001b[?25hDownloading nvidia_cusparse_cu12-12.3.1.170-py3-none-manylinux2014_x86_64.whl (207.5 MB)\n",
            "\u001b[2K   \u001b[90m━━━━━━━━━━━━━━━━━━━━━━━━━━━━━━━━━━━━━━━━\u001b[0m \u001b[32m207.5/207.5 MB\u001b[0m \u001b[31m6.1 MB/s\u001b[0m eta \u001b[36m0:00:00\u001b[0m\n",
            "\u001b[?25hDownloading nvidia_nvjitlink_cu12-12.4.127-py3-none-manylinux2014_x86_64.whl (21.1 MB)\n",
            "\u001b[2K   \u001b[90m━━━━━━━━━━━━━━━━━━━━━━━━━━━━━━━━━━━━━━━━\u001b[0m \u001b[32m21.1/21.1 MB\u001b[0m \u001b[31m107.1 MB/s\u001b[0m eta \u001b[36m0:00:00\u001b[0m\n",
            "\u001b[?25hInstalling collected packages: nvidia-nvjitlink-cu12, nvidia-curand-cu12, nvidia-cufft-cu12, nvidia-cuda-runtime-cu12, nvidia-cuda-nvrtc-cu12, nvidia-cuda-cupti-cu12, nvidia-cublas-cu12, nvidia-cusparse-cu12, nvidia-cudnn-cu12, nvidia-cusolver-cu12\n",
            "  Attempting uninstall: nvidia-nvjitlink-cu12\n",
            "    Found existing installation: nvidia-nvjitlink-cu12 12.5.82\n",
            "    Uninstalling nvidia-nvjitlink-cu12-12.5.82:\n",
            "      Successfully uninstalled nvidia-nvjitlink-cu12-12.5.82\n",
            "  Attempting uninstall: nvidia-curand-cu12\n",
            "    Found existing installation: nvidia-curand-cu12 10.3.6.82\n",
            "    Uninstalling nvidia-curand-cu12-10.3.6.82:\n",
            "      Successfully uninstalled nvidia-curand-cu12-10.3.6.82\n",
            "  Attempting uninstall: nvidia-cufft-cu12\n",
            "    Found existing installation: nvidia-cufft-cu12 11.2.3.61\n",
            "    Uninstalling nvidia-cufft-cu12-11.2.3.61:\n",
            "      Successfully uninstalled nvidia-cufft-cu12-11.2.3.61\n",
            "  Attempting uninstall: nvidia-cuda-runtime-cu12\n",
            "    Found existing installation: nvidia-cuda-runtime-cu12 12.5.82\n",
            "    Uninstalling nvidia-cuda-runtime-cu12-12.5.82:\n",
            "      Successfully uninstalled nvidia-cuda-runtime-cu12-12.5.82\n",
            "  Attempting uninstall: nvidia-cuda-nvrtc-cu12\n",
            "    Found existing installation: nvidia-cuda-nvrtc-cu12 12.5.82\n",
            "    Uninstalling nvidia-cuda-nvrtc-cu12-12.5.82:\n",
            "      Successfully uninstalled nvidia-cuda-nvrtc-cu12-12.5.82\n",
            "  Attempting uninstall: nvidia-cuda-cupti-cu12\n",
            "    Found existing installation: nvidia-cuda-cupti-cu12 12.5.82\n",
            "    Uninstalling nvidia-cuda-cupti-cu12-12.5.82:\n",
            "      Successfully uninstalled nvidia-cuda-cupti-cu12-12.5.82\n",
            "  Attempting uninstall: nvidia-cublas-cu12\n",
            "    Found existing installation: nvidia-cublas-cu12 12.5.3.2\n",
            "    Uninstalling nvidia-cublas-cu12-12.5.3.2:\n",
            "      Successfully uninstalled nvidia-cublas-cu12-12.5.3.2\n",
            "  Attempting uninstall: nvidia-cusparse-cu12\n",
            "    Found existing installation: nvidia-cusparse-cu12 12.5.1.3\n",
            "    Uninstalling nvidia-cusparse-cu12-12.5.1.3:\n",
            "      Successfully uninstalled nvidia-cusparse-cu12-12.5.1.3\n",
            "  Attempting uninstall: nvidia-cudnn-cu12\n",
            "    Found existing installation: nvidia-cudnn-cu12 9.3.0.75\n",
            "    Uninstalling nvidia-cudnn-cu12-9.3.0.75:\n",
            "      Successfully uninstalled nvidia-cudnn-cu12-9.3.0.75\n",
            "  Attempting uninstall: nvidia-cusolver-cu12\n",
            "    Found existing installation: nvidia-cusolver-cu12 11.6.3.83\n",
            "    Uninstalling nvidia-cusolver-cu12-11.6.3.83:\n",
            "      Successfully uninstalled nvidia-cusolver-cu12-11.6.3.83\n",
            "Successfully installed nvidia-cublas-cu12-12.4.5.8 nvidia-cuda-cupti-cu12-12.4.127 nvidia-cuda-nvrtc-cu12-12.4.127 nvidia-cuda-runtime-cu12-12.4.127 nvidia-cudnn-cu12-9.1.0.70 nvidia-cufft-cu12-11.2.1.3 nvidia-curand-cu12-10.3.5.147 nvidia-cusolver-cu12-11.6.1.9 nvidia-cusparse-cu12-12.3.1.170 nvidia-nvjitlink-cu12-12.4.127\n",
            "\u001b[2K     \u001b[90m━━━━━━━━━━━━━━━━━━━━━━━━━━━━━━━━━━━━━━━━\u001b[0m \u001b[32m63.1/63.1 kB\u001b[0m \u001b[31m2.2 MB/s\u001b[0m eta \u001b[36m0:00:00\u001b[0m\n",
            "\u001b[2K   \u001b[90m━━━━━━━━━━━━━━━━━━━━━━━━━━━━━━━━━━━━━━━━\u001b[0m \u001b[32m1.1/1.1 MB\u001b[0m \u001b[31m28.0 MB/s\u001b[0m eta \u001b[36m0:00:00\u001b[0m\n",
            "\u001b[?25h"
          ]
        }
      ]
    },
    {
      "cell_type": "code",
      "source": [
        "import networkx as nx\n",
        "import torch\n",
        "import torch.nn as nn\n",
        "import torch.nn.functional as F\n",
        "\n",
        "from torch_geometric.utils import from_networkx\n",
        "from sklearn.metrics import classification_report\n",
        "from torch_geometric.nn import GCNConv"
      ],
      "metadata": {
        "id": "YhTT-1R1madd"
      },
      "execution_count": null,
      "outputs": []
    },
    {
      "cell_type": "code",
      "source": [
        "G_clean = nx.Graph()\n",
        "\n",
        "for _, row in df.iterrows():\n",
        "    txn = f\"txn_{row['TransactionID']}\"\n",
        "    card = f\"card_{row['card1']}\"\n",
        "    addr = f\"addr_{row['addr1']}\"\n",
        "    device = f\"device_{row['DeviceType_enc']}\"\n",
        "\n",
        "    # Transaction node\n",
        "    G_clean.add_node(txn, node_type='transaction',\n",
        "                     x=torch.tensor([1, 0, 0, 0], dtype=torch.float),\n",
        "                     y=int(row['isFraud']))\n",
        "\n",
        "    # Card node\n",
        "    if not G_clean.has_node(card):\n",
        "        G_clean.add_node(card, node_type='card',\n",
        "                         x=torch.tensor([0, 1, 0, 0], dtype=torch.float),\n",
        "                         y=-1)\n",
        "\n",
        "    # Addr node\n",
        "    if not G_clean.has_node(addr):\n",
        "        G_clean.add_node(addr, node_type='addr',\n",
        "                         x=torch.tensor([0, 0, 1, 0], dtype=torch.float),\n",
        "                         y=-1)\n",
        "\n",
        "    # Device node\n",
        "    if not G_clean.has_node(device):\n",
        "        G_clean.add_node(device, node_type='device',\n",
        "                         x=torch.tensor([0, 0, 0, 1], dtype=torch.float),\n",
        "                         y=-1)\n",
        "\n",
        "    # Edges\n",
        "    G_clean.add_edge(txn, card)\n",
        "    G_clean.add_edge(txn, addr)\n",
        "    G_clean.add_edge(txn, device)"
      ],
      "metadata": {
        "id": "MChrj4H4Jtlo"
      },
      "execution_count": null,
      "outputs": []
    },
    {
      "cell_type": "code",
      "source": [
        "data = from_networkx(G_clean)\n",
        "print(data)"
      ],
      "metadata": {
        "colab": {
          "base_uri": "https://localhost:8080/"
        },
        "id": "BYHHduQNKhYw",
        "outputId": "6f5ec3b5-720d-40f0-cc57-737c444c41ca"
      },
      "execution_count": null,
      "outputs": [
        {
          "output_type": "stream",
          "name": "stdout",
          "text": [
            "Data(x=[6532, 4], edge_index=[2, 30000], y=[6532], node_type=[6532])\n"
          ]
        }
      ]
    },
    {
      "cell_type": "markdown",
      "source": [
        "## Defining and Training the GCN Model\n",
        "\n",
        "We now define our custom **Graph Convolutional Network (GCN)** architecture to classify transaction nodes as fraudulent or not. This is where we leverage both **node features** and **graph structure** to detect fraud more effectively than flat models like XGBoost.\n",
        "\n",
        "## Model Architecture\n",
        "- The `FraudGCN` class includes **two GCN layers**, with ReLU activation and dropout for regularization.\n",
        "- The model performs **message passing** between nodes, allowing each transaction to learn from its connected entities (card, address, device).\n",
        "\n",
        "## Training Setup\n",
        "- We move data (features, labels, and edges) to the GPU.\n",
        "- Since only transaction nodes are labeled, we apply a **mask** to filter and train on just those.\n",
        "- We calculate **class weights** to address the data imbalance between fraud and non-fraud cases — giving more importance to correctly identifying rare fraudulent transactions.\n",
        "\n",
        "This is the first GNN-based model we apply to the dataset, and it will serve as a strong baseline to compare with more advanced heterogeneous models later.\n"
      ],
      "metadata": {
        "id": "cCjhq4hdK0Hi"
      }
    },
    {
      "cell_type": "code",
      "source": [
        "class FraudGCN(nn.Module):\n",
        "    def __init__(self, in_channels, hidden_channels, out_channels):\n",
        "        super(FraudGCN, self).__init__()\n",
        "        self.conv1 = GCNConv(in_channels, hidden_channels)\n",
        "        self.conv2 = GCNConv(hidden_channels, out_channels)\n",
        "        self.dropout = nn.Dropout(0.3)\n",
        "\n",
        "    def forward(self, x, edge_index):\n",
        "        x = self.conv1(x, edge_index)\n",
        "        x = F.relu(x)\n",
        "        x = self.dropout(x)\n",
        "        x = self.conv2(x, edge_index)\n",
        "        return x"
      ],
      "metadata": {
        "id": "vVAmW39-Kjxx"
      },
      "execution_count": null,
      "outputs": []
    },
    {
      "cell_type": "code",
      "source": [
        "device = torch.device('cuda' if torch.cuda.is_available() else 'cpu')\n",
        "\n",
        "# Move graph data to device\n",
        "x = data.x.to(device)\n",
        "edge_index = data.edge_index.to(device)\n",
        "y = data.y.to(device)\n",
        "\n",
        "# Only transaction nodes (with actual labels)\n",
        "train_mask = (y != -1)\n",
        "train_idx = train_mask.nonzero(as_tuple=True)[0]\n",
        "\n",
        "# Count number of samples in each class (0 = not fraud, 1 = fraud)\n",
        "class_counts = torch.bincount(y[train_idx])\n",
        "fraud_weight = class_counts[0] / class_counts[1]\n",
        "\n",
        "# Set weights: class 0 = 1, class 1 (fraud) = weighted higher\n",
        "class_weights = torch.tensor([1.0, fraud_weight.item()], dtype=torch.float).to(device)"
      ],
      "metadata": {
        "id": "DqpRKK8VK14K"
      },
      "execution_count": null,
      "outputs": []
    },
    {
      "cell_type": "markdown",
      "source": [
        "## Training the Weighted GCN Model\n",
        "\n",
        "Since fraud is rare in the dataset, we apply **class weights** to help the model learn better from minority class examples (fraud = 1).\n",
        "\n",
        "## Model Setup\n",
        "We re-initialize the GCN model (`FraudGCN`) with:\n",
        "- 4 input features (dummy features for now),\n",
        "- 16 hidden units,\n",
        "- 2 output classes (fraud or not fraud).\n",
        "\n",
        "We use the **Adam optimizer** with a small learning rate and weight decay to ensure smooth convergence.\n",
        "\n",
        "## Training Loop\n",
        "We train the model for 100 epochs, applying:\n",
        "- **Cross-entropy loss** with class weights to emphasize fraud detection.\n",
        "- Accuracy is computed on just the labeled `transaction` nodes.\n",
        "- Every 10 epochs, we print loss and training accuracy to monitor progress.\n",
        "\n",
        "Even if overall accuracy looks low, weighted training often helps improve recall and F1-score on rare fraud cases — which we’ll evaluate in the next step."
      ],
      "metadata": {
        "id": "0BPqLLwWNJlY"
      }
    },
    {
      "cell_type": "code",
      "source": [
        "model_weighted = FraudGCN(in_channels=4, hidden_channels=16, out_channels=2).to(device)\n",
        "optimizer = torch.optim.Adam(model_weighted.parameters(), lr=0.01, weight_decay=5e-4)"
      ],
      "metadata": {
        "id": "_q7IVmVJK49R"
      },
      "execution_count": null,
      "outputs": []
    },
    {
      "cell_type": "code",
      "source": [
        "# Train for 100 epochs\n",
        "for epoch in range(1, 101):\n",
        "    model_weighted.train()\n",
        "    optimizer.zero_grad()\n",
        "    out = model_weighted(x, edge_index)\n",
        "\n",
        "    # Weighted loss for class imbalance\n",
        "    loss = F.cross_entropy(out[train_idx], y[train_idx], weight=class_weights)\n",
        "\n",
        "    loss.backward()\n",
        "    optimizer.step()\n",
        "\n",
        "    if epoch % 10 == 0:\n",
        "        pred = out[train_idx].argmax(dim=1)\n",
        "        acc = (pred == y[train_idx]).sum().item() / train_idx.size(0)\n",
        "        print(f\"Epoch {epoch:03d} | Loss: {loss.item():.4f} | Train Accuracy: {acc:.4f}\")"
      ],
      "metadata": {
        "colab": {
          "base_uri": "https://localhost:8080/"
        },
        "id": "w3oxiCH6K9_k",
        "outputId": "35160728-7c49-4acf-a23c-569e36119ecc"
      },
      "execution_count": null,
      "outputs": [
        {
          "output_type": "stream",
          "name": "stdout",
          "text": [
            "Epoch 010 | Loss: 0.6920 | Train Accuracy: 0.2302\n",
            "Epoch 020 | Loss: 0.6892 | Train Accuracy: 0.3322\n",
            "Epoch 030 | Loss: 0.6869 | Train Accuracy: 0.4378\n",
            "Epoch 040 | Loss: 0.6866 | Train Accuracy: 0.4884\n",
            "Epoch 050 | Loss: 0.6876 | Train Accuracy: 0.4006\n",
            "Epoch 060 | Loss: 0.6878 | Train Accuracy: 0.3634\n",
            "Epoch 070 | Loss: 0.6878 | Train Accuracy: 0.3352\n",
            "Epoch 080 | Loss: 0.6904 | Train Accuracy: 0.4958\n",
            "Epoch 090 | Loss: 0.6847 | Train Accuracy: 0.4790\n",
            "Epoch 100 | Loss: 0.6823 | Train Accuracy: 0.4462\n"
          ]
        }
      ]
    },
    {
      "cell_type": "code",
      "source": [
        "# Inference\n",
        "model_weighted.eval()\n",
        "out = model_weighted(x, edge_index)\n",
        "\n",
        "pred = out[train_idx].argmax(dim=1).cpu().numpy()\n",
        "true = y[train_idx].cpu().numpy()\n",
        "\n",
        "# Evaluation\n",
        "print(\"\\nWeighted GCN Classification Report (on transaction nodes only):\")\n",
        "print(classification_report(true, pred, digits=4))"
      ],
      "metadata": {
        "colab": {
          "base_uri": "https://localhost:8080/"
        },
        "id": "OutN9ZHfNSw_",
        "outputId": "dd9e8ad9-04e4-4d51-9ae8-b522eedacd14"
      },
      "execution_count": null,
      "outputs": [
        {
          "output_type": "stream",
          "name": "stdout",
          "text": [
            "\n",
            "Weighted GCN Classification Report (on transaction nodes only):\n",
            "              precision    recall  f1-score   support\n",
            "\n",
            "           0     0.9473    0.3914    0.5539      4637\n",
            "           1     0.0850    0.7218    0.1520       363\n",
            "\n",
            "    accuracy                         0.4154      5000\n",
            "   macro avg     0.5161    0.5566    0.3530      5000\n",
            "weighted avg     0.8847    0.4154    0.5248      5000\n",
            "\n"
          ]
        }
      ]
    },
    {
      "cell_type": "markdown",
      "source": [
        "## Evaluation of the Weighted GCN\n",
        "\n",
        "- **Precision (Fraud Class = 1): 8.5%**  \n",
        "  Out of all the transactions the model marked as fraud, only ~8.5% were actually fraud. This is still low, but better than before.\n",
        "\n",
        "- **Recall (Fraud Class = 1): 72.2%**  \n",
        "  The model successfully caught **7 out of 10** fraudulent cases. This is a **huge improvement** over the baseline.\n",
        "\n",
        "- **F1-score (Fraud Class = 1): 15.2%**  \n",
        "  This combines both precision and recall — we see that the model is starting to balance both, though there's still room for improvement.\n",
        "\n",
        "- **Overall Accuracy: 41.5%**  \n",
        "  This metric is less important here, because fraud is rare and accuracy can be misleading.\n",
        "\n",
        "The GCN with class weighting is **far better** at catching fraud than the earlier XGBoost baseline, especially in terms of **recall**. By modeling **inter-entity relationships** in the graph (connections between transactions, cards, addresses, devices), the GCN learns much richer signals than treating each transaction independently."
      ],
      "metadata": {
        "id": "m4rEB03bsk4i"
      }
    },
    {
      "cell_type": "markdown",
      "source": [
        "## **3. Modeling Heterogeneous Graphs for Enhanced Fraud Detection**\n",
        "\n",
        "While the standard GCN helped us model relationships between transactions and associated entities (like cards, addresses, and devices), it still treated all nodes as **homogeneous** — meaning all node types shared the same representation and update rules.\n",
        "\n",
        "However, in real-world fraud scenarios:\n",
        "- **Different node types (transactions, cards, devices)** behave very differently.\n",
        "- Treating them identically might blur the unique patterns specific to each type.\n",
        "\n",
        "To address this, we now build a **Heterogeneous Graph**, where:\n",
        "- Each node type (transaction, card, address, device) is treated distinctly.\n",
        "- We use **PyG’s `HeteroData`** object to structure this data.\n",
        "- This sets the stage for applying **more expressive models** like `SAGEConv` and `RGCNConv` that understand **type-aware message passing**.\n",
        "\n",
        "This is a more realistic and powerful representation of fraud networks.\n"
      ],
      "metadata": {
        "id": "0QZmBBQDXEmw"
      }
    },
    {
      "cell_type": "code",
      "source": [
        "!pip install torch-geometric -q"
      ],
      "metadata": {
        "id": "Ckazs3RMNXC4"
      },
      "execution_count": null,
      "outputs": []
    },
    {
      "cell_type": "code",
      "source": [
        "import torch\n",
        "import torch.nn.functional as F\n",
        "import torch.nn as nn\n",
        "\n",
        "from sklearn.metrics import classification_report\n",
        "from torch_geometric.data import HeteroData\n",
        "from torch_geometric.nn import RGCNConv\n",
        "from torch_geometric.nn import HeteroConv, SAGEConv"
      ],
      "metadata": {
        "id": "ZK75aiZWXGhU"
      },
      "execution_count": null,
      "outputs": []
    },
    {
      "cell_type": "code",
      "source": [
        "data_hetero = HeteroData()\n",
        "\n",
        "# Basic setup\n",
        "txn_nodes = df.reset_index(drop=True)\n",
        "device = torch.device('cuda' if torch.cuda.is_available() else 'cpu')\n",
        "\n",
        "# Assign integer indices as features\n",
        "data_hetero['transaction'].x = torch.arange(len(txn_nodes))\n",
        "data_hetero['transaction'].y = torch.tensor(txn_nodes['isFraud'].values, dtype=torch.long)\n",
        "\n",
        "# Unique values for other node types\n",
        "cards = txn_nodes['card1'].astype(str).unique()\n",
        "addrs = txn_nodes['addr1'].astype(str).unique()\n",
        "devices = txn_nodes['DeviceType_enc'].astype(str).unique()\n",
        "\n",
        "# Maps from category to node index\n",
        "card_idx = {k: i for i, k in enumerate(cards)}\n",
        "addr_idx = {k: i for i, k in enumerate(addrs)}\n",
        "dev_idx = {k: i for i, k in enumerate(devices)}\n",
        "\n",
        "# Assign node indices as features\n",
        "data_hetero['card'].x = torch.arange(len(cards))\n",
        "data_hetero['addr'].x = torch.arange(len(addrs))\n",
        "data_hetero['device'].x = torch.arange(len(devices))"
      ],
      "metadata": {
        "id": "V_dOYbAZZkxO"
      },
      "execution_count": null,
      "outputs": []
    },
    {
      "cell_type": "markdown",
      "source": [
        "## Constructing Relationships: Adding Edges Between Entities\n",
        "\n",
        "Now that we've defined the heterogeneous node types, we need to connect them to form a meaningful graph.\n",
        "\n",
        "In this step:\n",
        "- We iterate through each transaction row and link it to its associated **card**, **address**, and **device** using edge lists.\n",
        "- We then create **typed edges** between `transaction` → `card`, `transaction` → `addr`, and `transaction` → `device`.\n",
        "- To allow **bidirectional message passing**, we also add **reverse edges** like `card` → `transaction`.\n",
        "\n",
        "These edges are stored in PyTorch tensors and registered in the `HeteroData` object using appropriate relation keys. This step transforms our raw dataset into a structured **multi-relation graph**, ready for training with heterogeneous GNN models."
      ],
      "metadata": {
        "id": "AKEl0-yibaBZ"
      }
    },
    {
      "cell_type": "code",
      "source": [
        "card_edges = [[], []]\n",
        "addr_edges = [[], []]\n",
        "device_edges = [[], []]\n",
        "\n",
        "for i, row in txn_nodes.iterrows():\n",
        "    t_idx = i\n",
        "    c = str(row['card1'])\n",
        "    a = str(row['addr1'])\n",
        "    d = str(row['DeviceType_enc'])\n",
        "\n",
        "    if c in card_idx:\n",
        "        card_edges[0].append(t_idx)\n",
        "        card_edges[1].append(card_idx[c])\n",
        "    if a in addr_idx:\n",
        "        addr_edges[0].append(t_idx)\n",
        "        addr_edges[1].append(addr_idx[a])\n",
        "    if d in dev_idx:\n",
        "        device_edges[0].append(t_idx)\n",
        "        device_edges[1].append(dev_idx[d])\n",
        "\n",
        "# Add edges\n",
        "data_hetero['transaction', 'to', 'card'].edge_index = torch.tensor(card_edges, dtype=torch.long)\n",
        "data_hetero['transaction', 'to', 'addr'].edge_index = torch.tensor(addr_edges, dtype=torch.long)\n",
        "data_hetero['transaction', 'to', 'device'].edge_index = torch.tensor(device_edges, dtype=torch.long)\n",
        "\n",
        "# Add reverse edges\n",
        "data_hetero['card', 'rev_to', 'transaction'].edge_index = data_hetero['transaction', 'to', 'card'].edge_index.flip(0)\n",
        "data_hetero['addr', 'rev_to', 'transaction'].edge_index = data_hetero['transaction', 'to', 'addr'].edge_index.flip(0)\n",
        "data_hetero['device', 'rev_to', 'transaction'].edge_index = data_hetero['transaction', 'to', 'device'].edge_index.flip(0)\n",
        "\n",
        "# Send to device\n",
        "data_hetero = data_hetero.to(device)"
      ],
      "metadata": {
        "id": "IuoabqKtbX23"
      },
      "execution_count": null,
      "outputs": []
    },
    {
      "cell_type": "markdown",
      "source": [
        "## Defining the Heterogeneous GNN Model using SAGEConv\n",
        "\n",
        "We now build a more advanced model — a Heterogeneous Graph Neural Network — using `SAGEConv`, which supports **bipartite message passing**. This model is tailored to handle our multi-relation graph of transactions, cards, addresses, and devices.\n",
        "\n",
        "## Key components:\n",
        "- **Embedding Layer**: Each node type (transaction, card, addr, device) is initialized with its own embedding layer.\n",
        "- **HeteroConv Layers**: Two stacked convolution layers aggregate features from neighbors for each edge type (e.g., transaction → card, card → transaction), using the mean aggregator.\n",
        "- **Forward Pass**:\n",
        "  - Each node gets its corresponding embedding.\n",
        "  - First convolution propagates and transforms messages.\n",
        "  - ReLU is applied element-wise.\n",
        "  - Second convolution outputs predictions over 2 classes (fraud / not fraud).\n",
        "\n",
        "This setup allows the model to learn and propagate **relationship-specific patterns** across the heterogeneous graph and detect fraud based on richer contextual cues."
      ],
      "metadata": {
        "id": "BiuByjyrbjpz"
      }
    },
    {
      "cell_type": "code",
      "source": [
        "class HeteroGNN(nn.Module):\n",
        "    def __init__(self, metadata, hidden_channels=32, embed_dim=64):\n",
        "        super().__init__()\n",
        "        self.embeddings = nn.ModuleDict()\n",
        "        for node_type in metadata[0]:\n",
        "            num_nodes = data_hetero[node_type].x.max().item() + 1\n",
        "            self.embeddings[node_type] = nn.Embedding(num_nodes, embed_dim)\n",
        "\n",
        "        self.conv1 = HeteroConv({\n",
        "            edge_type: SAGEConv((embed_dim, embed_dim), hidden_channels)\n",
        "            for edge_type in metadata[1]\n",
        "        }, aggr='mean')\n",
        "\n",
        "        self.conv2 = HeteroConv({\n",
        "            edge_type: SAGEConv((hidden_channels, hidden_channels), 2)\n",
        "            for edge_type in metadata[1]\n",
        "        }, aggr='mean')\n",
        "\n",
        "    def forward(self, x_dict, edge_index_dict):\n",
        "        x = {k: self.embeddings[k](v) for k, v in x_dict.items()}\n",
        "        x = self.conv1(x, edge_index_dict)\n",
        "        x = {k: F.relu(v) for k, v in x.items()}\n",
        "        x = self.conv2(x, edge_index_dict)\n",
        "        return x"
      ],
      "metadata": {
        "id": "ViOSV0sAbdml"
      },
      "execution_count": null,
      "outputs": []
    },
    {
      "cell_type": "code",
      "source": [
        "device = torch.device('cuda' if torch.cuda.is_available() else 'cpu')\n",
        "\n",
        "model = HeteroGNN(data_hetero.metadata(), hidden_channels=32).to(device)\n",
        "optimizer = torch.optim.Adam(model.parameters(), lr=0.01, weight_decay=5e-4)\n",
        "\n",
        "y = data_hetero['transaction'].y\n",
        "train_mask = torch.ones(y.shape[0], dtype=torch.bool)"
      ],
      "metadata": {
        "id": "TPGivVbJbnzH"
      },
      "execution_count": null,
      "outputs": []
    },
    {
      "cell_type": "markdown",
      "source": [
        "## Training the HeteroGNN Model\n",
        "In this section, we train the Heterogeneous GNN using the transaction subgraph. We pass the node and edge data into the model and compute the cross-entropy loss only on transaction nodes. Training is run for 100 epochs, and we monitor the accuracy every 10 epochs to track improvements.\n",
        "\n"
      ],
      "metadata": {
        "id": "8jByORVHbwjS"
      }
    },
    {
      "cell_type": "code",
      "source": [
        "for epoch in range(1, 101):\n",
        "    model.train()\n",
        "    optimizer.zero_grad()\n",
        "\n",
        "    out_dict = model(data_hetero.x_dict, data_hetero.edge_index_dict)\n",
        "    out = out_dict['transaction']\n",
        "\n",
        "    loss = F.cross_entropy(out[train_mask], y[train_mask])\n",
        "    loss.backward()\n",
        "    optimizer.step()\n",
        "\n",
        "    if epoch % 10 == 0:\n",
        "        pred = out[train_mask].argmax(dim=1)\n",
        "        acc = (pred == y[train_mask]).sum().item() / train_mask.sum().item()\n",
        "        print(f\"Epoch {epoch:03d} | Loss: {loss.item():.4f} | Accuracy: {acc:.4f}\")"
      ],
      "metadata": {
        "colab": {
          "base_uri": "https://localhost:8080/"
        },
        "id": "DofqW-NObp0y",
        "outputId": "6b5afe17-c3f4-4f2e-967f-085c37de66fe"
      },
      "execution_count": null,
      "outputs": [
        {
          "output_type": "stream",
          "name": "stdout",
          "text": [
            "Epoch 010 | Loss: 0.2429 | Accuracy: 0.9274\n",
            "Epoch 020 | Loss: 0.2219 | Accuracy: 0.9274\n",
            "Epoch 030 | Loss: 0.2089 | Accuracy: 0.9274\n",
            "Epoch 040 | Loss: 0.1958 | Accuracy: 0.9274\n",
            "Epoch 050 | Loss: 0.1819 | Accuracy: 0.9276\n",
            "Epoch 060 | Loss: 0.1663 | Accuracy: 0.9284\n",
            "Epoch 070 | Loss: 0.1474 | Accuracy: 0.9358\n",
            "Epoch 080 | Loss: 0.1238 | Accuracy: 0.9460\n",
            "Epoch 090 | Loss: 0.0988 | Accuracy: 0.9628\n",
            "Epoch 100 | Loss: 0.0750 | Accuracy: 0.9784\n"
          ]
        }
      ]
    },
    {
      "cell_type": "code",
      "source": [
        "model.eval()\n",
        "out = model(data_hetero.x_dict, data_hetero.edge_index_dict)['transaction']\n",
        "pred = out.argmax(dim=1).cpu().numpy()\n",
        "true = y.cpu().numpy()\n",
        "\n",
        "print(\"\\nHeteroGNN (SAGEConv) Classification Report:\")\n",
        "print(classification_report(true, pred, digits=4))"
      ],
      "metadata": {
        "colab": {
          "base_uri": "https://localhost:8080/"
        },
        "id": "qIAQf5cWbtIE",
        "outputId": "129ed588-62d9-4b9f-b84b-1853a21f0935"
      },
      "execution_count": null,
      "outputs": [
        {
          "output_type": "stream",
          "name": "stdout",
          "text": [
            "\n",
            "HeteroGNN (SAGEConv) Classification Report:\n",
            "              precision    recall  f1-score   support\n",
            "\n",
            "           0     0.9803    0.9991    0.9896      4637\n",
            "           1     0.9854    0.7438    0.8477       363\n",
            "\n",
            "    accuracy                         0.9806      5000\n",
            "   macro avg     0.9829    0.8715    0.9187      5000\n",
            "weighted avg     0.9807    0.9806    0.9793      5000\n",
            "\n"
          ]
        }
      ]
    },
    {
      "cell_type": "markdown",
      "source": [
        "## Evaluation of HeteroGNN (SAGEConv)\n",
        "The Heterogeneous GNN using SAGEConv significantly outperforms the previous models. By leveraging the relational structure between transactions and other entities (cards, addresses, devices), the model is able to detect fraudulent behavior more effectively.\n",
        "Key insights from the classification report:\n",
        "\n",
        "**Precision (class 1): 98.54%** — Most predicted frauds were indeed actual frauds.\n",
        "\n",
        "**Recall (class 1): 74.38%** — It caught nearly 3 out of 4 true frauds, a massive improvement.\n",
        "\n",
        "**F1 Score (class 1): 84.77%** — A strong balance between precision and recall.\n",
        "\n",
        "**Overall Accuracy: 98.06%** — The best overall performance across all models.\n",
        "\n",
        "This shows that incorporating heterogeneous entity relationships enables the model to identify fraud patterns that simple models and GCNs miss."
      ],
      "metadata": {
        "id": "eGuNdizZvaxY"
      }
    },
    {
      "cell_type": "markdown",
      "source": [
        "## **Model Performance Comparison**\n",
        "To visually compare the effectiveness of the different models (Baseline XGBoost, Weighted GCN, and HeteroGNN), we plot key evaluation metrics — Precision, Recall, F1-Score, and Accuracy — across all models."
      ],
      "metadata": {
        "id": "d0s3JjQNmQRc"
      }
    },
    {
      "cell_type": "code",
      "source": [
        "import matplotlib.pyplot as plt\n",
        "import numpy as np\n",
        "\n",
        "models = ['Baseline (XGBoost)', 'Weighted GCN', 'HeteroGNN']\n",
        "precision = [0.95, 0.08, 0.9854]\n",
        "recall = [0.35, 0.72, 0.7438]\n",
        "f1_score = [0.51, 0.15, 0.8477]\n",
        "accuracy = [0.92, 0.41, 0.9806]\n",
        "\n",
        "metric_colors = {\n",
        "    \"Precision (Fraud Class)\": \"lightblue\",\n",
        "    \"Recall (Fraud Class)\": \"thistle\",\n",
        "    \"F1 Score (Fraud Class)\": \"lightgreen\",\n",
        "    \"Overall Accuracy\": \"pink\"\n",
        "}\n",
        "\n",
        "def plot_single_metric(values, name):\n",
        "    plt.figure(figsize=(7, 4))\n",
        "    bars = plt.bar(models, values, color=metric_colors[name])\n",
        "    plt.title(f\"{name} Comparison Across Models\")\n",
        "    plt.ylabel(name)\n",
        "    plt.ylim(0, 1)\n",
        "    for bar in bars:\n",
        "        yval = bar.get_height()\n",
        "        plt.text(bar.get_x() + bar.get_width() / 2, yval + 0.01, f\"{yval:.2f}\", ha='center', va='bottom')\n",
        "    plt.grid(axis='y', linestyle='--', alpha=0.6)\n",
        "    plt.tight_layout()\n",
        "    plt.show()\n",
        "\n",
        "# Plot each metric separately\n",
        "plot_single_metric(precision, \"Precision (Fraud Class)\")\n",
        "plot_single_metric(recall, \"Recall (Fraud Class)\")\n",
        "plot_single_metric(f1_score, \"F1 Score (Fraud Class)\")\n",
        "plot_single_metric(accuracy, \"Overall Accuracy\")\n",
        "\n",
        "# Combined bar chart\n",
        "x = np.arange(len(models))\n",
        "width = 0.2\n",
        "\n",
        "fig, ax = plt.subplots(figsize=(10, 6))\n",
        "rects1 = ax.bar(x - width*1.5, precision, width, label='Precision', color='lightblue')\n",
        "rects2 = ax.bar(x - width/2, recall, width, label='Recall', color='thistle')\n",
        "rects3 = ax.bar(x + width/2, f1_score, width, label='F1 Score', color='lightgreen')\n",
        "rects4 = ax.bar(x + width*1.5, accuracy, width, label='Accuracy', color='pink')\n",
        "\n",
        "def add_labels(rects):\n",
        "    for rect in rects:\n",
        "        height = rect.get_height()\n",
        "        ax.annotate(f'{height:.2f}', xy=(rect.get_x() + rect.get_width() / 2, height),\n",
        "                    xytext=(0, 3), textcoords=\"offset points\",\n",
        "                    ha='center', va='bottom')\n",
        "\n",
        "add_labels(rects1)\n",
        "add_labels(rects2)\n",
        "add_labels(rects3)\n",
        "add_labels(rects4)\n",
        "\n",
        "ax.set_ylabel('Scores')\n",
        "ax.set_title('Model Comparison (Fraud Detection Metrics)')\n",
        "ax.set_xticks(x)\n",
        "ax.set_xticklabels(models)\n",
        "ax.legend()\n",
        "ax.set_ylim(0, 1)\n",
        "ax.grid(axis='y', linestyle='--', alpha=0.7)\n",
        "fig.tight_layout()\n",
        "plt.show()"
      ],
      "metadata": {
        "colab": {
          "base_uri": "https://localhost:8080/",
          "height": 1919
        },
        "id": "xf6jvCpAb0lD",
        "outputId": "565d2999-30b1-452d-f8ae-7351c47ec0e3"
      },
      "execution_count": null,
      "outputs": [
        {
          "output_type": "display_data",
          "data": {
            "text/plain": [
              "<Figure size 700x400 with 1 Axes>"
            ],
            "image/png": "[encoded data removed]"
          },
          "metadata": {}
        },
        {
          "output_type": "display_data",
          "data": {
            "text/plain": [
              "<Figure size 700x400 with 1 Axes>"
            ],
            "image/png": "[encoded data removed]"
          },
          "metadata": {}
        },
        {
          "output_type": "display_data",
          "data": {
            "text/plain": [
              "<Figure size 700x400 with 1 Axes>"
            ],
            "image/png": "[encoded data removed]"
          },
          "metadata": {}
        },
        {
          "output_type": "display_data",
          "data": {
            "text/plain": [
              "<Figure size 700x400 with 1 Axes>"
            ],
            "image/png": "[encoded data removed]"
          },
          "metadata": {}
        },
        {
          "output_type": "display_data",
          "data": {
            "text/plain": [
              "<Figure size 1000x600 with 1 Axes>"
            ],
            "image/png": "[encoded data removed]"
          },
          "metadata": {}
        }
      ]
    }
  ]
}